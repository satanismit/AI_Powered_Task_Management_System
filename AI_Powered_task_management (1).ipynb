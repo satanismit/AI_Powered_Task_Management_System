{
  "nbformat": 4,
  "nbformat_minor": 0,
  "metadata": {
    "colab": {
      "provenance": []
    },
    "kernelspec": {
      "name": "python3",
      "display_name": "Python 3"
    },
    "language_info": {
      "name": "python"
    }
  },
  "cells": [
    {
      "cell_type": "code",
      "execution_count": 1,
      "metadata": {
        "id": "5hUdxqd0LOcc"
      },
      "outputs": [],
      "source": [
        "import numpy as np\n",
        "import matplotlib.pyplot as plt\n",
        "import pandas as pd\n"
      ]
    },
    {
      "cell_type": "code",
      "source": [
        "df=pd.read_csv('/content/processed_task_management_dataset.csv')\n",
        "df.head()"
      ],
      "metadata": {
        "colab": {
          "base_uri": "https://localhost:8080/",
          "height": 400
        },
        "id": "TUenyhKxLlJu",
        "outputId": "c19a6b96-d114-40cb-fef9-9b2bce63bfb8"
      },
      "execution_count": 2,
      "outputs": [
        {
          "output_type": "execute_result",
          "data": {
            "text/plain": [
              "                                                Task       Category Priority  \\\n",
              "0  Write guide for the engineer_magnetic_solution...  Documentation      Low   \n",
              "1  Investigate the seize_cross-platform_partnersh...       Research   Medium   \n",
              "2  Implement the unleash_sticky_schemas before Tu...        Feature     High   \n",
              "3  Develop the transform_cross-media_markets befo...        Feature   Medium   \n",
              "4  Create the drive_dot-com_methodologies before ...        Feature   Medium   \n",
              "\n",
              "     Deadline Assigned_To  User_Behavior_Score     Status Workload  \\\n",
              "0  2025-05-21       Preet                 0.84  Completed     High   \n",
              "1  2025-05-22       Naman                 0.50  Completed   Medium   \n",
              "2  2025-06-03      Bibhab                 0.59  Completed      Low   \n",
              "3  2025-05-22        Smit                 0.67    Pending   Medium   \n",
              "4  2025-05-25        Smit                 0.67    Pending   Medium   \n",
              "\n",
              "                                      Processed_Task  \n",
              "0    write guide engineermagneticsolutions wednesday  \n",
              "1  investigate seizecrossplatformpartnerships thu...  \n",
              "2             implement unleashstickyschemas tuesday  \n",
              "3        develop transformcrossmediamarkets thursday  \n",
              "4             create drivedotcommethodologies sunday  "
            ],
            "text/html": [
              "\n",
              "  <div id=\"df-e6a417ea-fda3-4b5f-a334-dd0e3bb5ebcb\" class=\"colab-df-container\">\n",
              "    <div>\n",
              "<style scoped>\n",
              "    .dataframe tbody tr th:only-of-type {\n",
              "        vertical-align: middle;\n",
              "    }\n",
              "\n",
              "    .dataframe tbody tr th {\n",
              "        vertical-align: top;\n",
              "    }\n",
              "\n",
              "    .dataframe thead th {\n",
              "        text-align: right;\n",
              "    }\n",
              "</style>\n",
              "<table border=\"1\" class=\"dataframe\">\n",
              "  <thead>\n",
              "    <tr style=\"text-align: right;\">\n",
              "      <th></th>\n",
              "      <th>Task</th>\n",
              "      <th>Category</th>\n",
              "      <th>Priority</th>\n",
              "      <th>Deadline</th>\n",
              "      <th>Assigned_To</th>\n",
              "      <th>User_Behavior_Score</th>\n",
              "      <th>Status</th>\n",
              "      <th>Workload</th>\n",
              "      <th>Processed_Task</th>\n",
              "    </tr>\n",
              "  </thead>\n",
              "  <tbody>\n",
              "    <tr>\n",
              "      <th>0</th>\n",
              "      <td>Write guide for the engineer_magnetic_solution...</td>\n",
              "      <td>Documentation</td>\n",
              "      <td>Low</td>\n",
              "      <td>2025-05-21</td>\n",
              "      <td>Preet</td>\n",
              "      <td>0.84</td>\n",
              "      <td>Completed</td>\n",
              "      <td>High</td>\n",
              "      <td>write guide engineermagneticsolutions wednesday</td>\n",
              "    </tr>\n",
              "    <tr>\n",
              "      <th>1</th>\n",
              "      <td>Investigate the seize_cross-platform_partnersh...</td>\n",
              "      <td>Research</td>\n",
              "      <td>Medium</td>\n",
              "      <td>2025-05-22</td>\n",
              "      <td>Naman</td>\n",
              "      <td>0.50</td>\n",
              "      <td>Completed</td>\n",
              "      <td>Medium</td>\n",
              "      <td>investigate seizecrossplatformpartnerships thu...</td>\n",
              "    </tr>\n",
              "    <tr>\n",
              "      <th>2</th>\n",
              "      <td>Implement the unleash_sticky_schemas before Tu...</td>\n",
              "      <td>Feature</td>\n",
              "      <td>High</td>\n",
              "      <td>2025-06-03</td>\n",
              "      <td>Bibhab</td>\n",
              "      <td>0.59</td>\n",
              "      <td>Completed</td>\n",
              "      <td>Low</td>\n",
              "      <td>implement unleashstickyschemas tuesday</td>\n",
              "    </tr>\n",
              "    <tr>\n",
              "      <th>3</th>\n",
              "      <td>Develop the transform_cross-media_markets befo...</td>\n",
              "      <td>Feature</td>\n",
              "      <td>Medium</td>\n",
              "      <td>2025-05-22</td>\n",
              "      <td>Smit</td>\n",
              "      <td>0.67</td>\n",
              "      <td>Pending</td>\n",
              "      <td>Medium</td>\n",
              "      <td>develop transformcrossmediamarkets thursday</td>\n",
              "    </tr>\n",
              "    <tr>\n",
              "      <th>4</th>\n",
              "      <td>Create the drive_dot-com_methodologies before ...</td>\n",
              "      <td>Feature</td>\n",
              "      <td>Medium</td>\n",
              "      <td>2025-05-25</td>\n",
              "      <td>Smit</td>\n",
              "      <td>0.67</td>\n",
              "      <td>Pending</td>\n",
              "      <td>Medium</td>\n",
              "      <td>create drivedotcommethodologies sunday</td>\n",
              "    </tr>\n",
              "  </tbody>\n",
              "</table>\n",
              "</div>\n",
              "    <div class=\"colab-df-buttons\">\n",
              "\n",
              "  <div class=\"colab-df-container\">\n",
              "    <button class=\"colab-df-convert\" onclick=\"convertToInteractive('df-e6a417ea-fda3-4b5f-a334-dd0e3bb5ebcb')\"\n",
              "            title=\"Convert this dataframe to an interactive table.\"\n",
              "            style=\"display:none;\">\n",
              "\n",
              "  <svg xmlns=\"http://www.w3.org/2000/svg\" height=\"24px\" viewBox=\"0 -960 960 960\">\n",
              "    <path d=\"M120-120v-720h720v720H120Zm60-500h600v-160H180v160Zm220 220h160v-160H400v160Zm0 220h160v-160H400v160ZM180-400h160v-160H180v160Zm440 0h160v-160H620v160ZM180-180h160v-160H180v160Zm440 0h160v-160H620v160Z\"/>\n",
              "  </svg>\n",
              "    </button>\n",
              "\n",
              "  <style>\n",
              "    .colab-df-container {\n",
              "      display:flex;\n",
              "      gap: 12px;\n",
              "    }\n",
              "\n",
              "    .colab-df-convert {\n",
              "      background-color: #E8F0FE;\n",
              "      border: none;\n",
              "      border-radius: 50%;\n",
              "      cursor: pointer;\n",
              "      display: none;\n",
              "      fill: #1967D2;\n",
              "      height: 32px;\n",
              "      padding: 0 0 0 0;\n",
              "      width: 32px;\n",
              "    }\n",
              "\n",
              "    .colab-df-convert:hover {\n",
              "      background-color: #E2EBFA;\n",
              "      box-shadow: 0px 1px 2px rgba(60, 64, 67, 0.3), 0px 1px 3px 1px rgba(60, 64, 67, 0.15);\n",
              "      fill: #174EA6;\n",
              "    }\n",
              "\n",
              "    .colab-df-buttons div {\n",
              "      margin-bottom: 4px;\n",
              "    }\n",
              "\n",
              "    [theme=dark] .colab-df-convert {\n",
              "      background-color: #3B4455;\n",
              "      fill: #D2E3FC;\n",
              "    }\n",
              "\n",
              "    [theme=dark] .colab-df-convert:hover {\n",
              "      background-color: #434B5C;\n",
              "      box-shadow: 0px 1px 3px 1px rgba(0, 0, 0, 0.15);\n",
              "      filter: drop-shadow(0px 1px 2px rgba(0, 0, 0, 0.3));\n",
              "      fill: #FFFFFF;\n",
              "    }\n",
              "  </style>\n",
              "\n",
              "    <script>\n",
              "      const buttonEl =\n",
              "        document.querySelector('#df-e6a417ea-fda3-4b5f-a334-dd0e3bb5ebcb button.colab-df-convert');\n",
              "      buttonEl.style.display =\n",
              "        google.colab.kernel.accessAllowed ? 'block' : 'none';\n",
              "\n",
              "      async function convertToInteractive(key) {\n",
              "        const element = document.querySelector('#df-e6a417ea-fda3-4b5f-a334-dd0e3bb5ebcb');\n",
              "        const dataTable =\n",
              "          await google.colab.kernel.invokeFunction('convertToInteractive',\n",
              "                                                    [key], {});\n",
              "        if (!dataTable) return;\n",
              "\n",
              "        const docLinkHtml = 'Like what you see? Visit the ' +\n",
              "          '<a target=\"_blank\" href=https://colab.research.google.com/notebooks/data_table.ipynb>data table notebook</a>'\n",
              "          + ' to learn more about interactive tables.';\n",
              "        element.innerHTML = '';\n",
              "        dataTable['output_type'] = 'display_data';\n",
              "        await google.colab.output.renderOutput(dataTable, element);\n",
              "        const docLink = document.createElement('div');\n",
              "        docLink.innerHTML = docLinkHtml;\n",
              "        element.appendChild(docLink);\n",
              "      }\n",
              "    </script>\n",
              "  </div>\n",
              "\n",
              "\n",
              "    <div id=\"df-8047af11-eb75-4bf7-80e2-e82de2bc8dbe\">\n",
              "      <button class=\"colab-df-quickchart\" onclick=\"quickchart('df-8047af11-eb75-4bf7-80e2-e82de2bc8dbe')\"\n",
              "                title=\"Suggest charts\"\n",
              "                style=\"display:none;\">\n",
              "\n",
              "<svg xmlns=\"http://www.w3.org/2000/svg\" height=\"24px\"viewBox=\"0 0 24 24\"\n",
              "     width=\"24px\">\n",
              "    <g>\n",
              "        <path d=\"M19 3H5c-1.1 0-2 .9-2 2v14c0 1.1.9 2 2 2h14c1.1 0 2-.9 2-2V5c0-1.1-.9-2-2-2zM9 17H7v-7h2v7zm4 0h-2V7h2v10zm4 0h-2v-4h2v4z\"/>\n",
              "    </g>\n",
              "</svg>\n",
              "      </button>\n",
              "\n",
              "<style>\n",
              "  .colab-df-quickchart {\n",
              "      --bg-color: #E8F0FE;\n",
              "      --fill-color: #1967D2;\n",
              "      --hover-bg-color: #E2EBFA;\n",
              "      --hover-fill-color: #174EA6;\n",
              "      --disabled-fill-color: #AAA;\n",
              "      --disabled-bg-color: #DDD;\n",
              "  }\n",
              "\n",
              "  [theme=dark] .colab-df-quickchart {\n",
              "      --bg-color: #3B4455;\n",
              "      --fill-color: #D2E3FC;\n",
              "      --hover-bg-color: #434B5C;\n",
              "      --hover-fill-color: #FFFFFF;\n",
              "      --disabled-bg-color: #3B4455;\n",
              "      --disabled-fill-color: #666;\n",
              "  }\n",
              "\n",
              "  .colab-df-quickchart {\n",
              "    background-color: var(--bg-color);\n",
              "    border: none;\n",
              "    border-radius: 50%;\n",
              "    cursor: pointer;\n",
              "    display: none;\n",
              "    fill: var(--fill-color);\n",
              "    height: 32px;\n",
              "    padding: 0;\n",
              "    width: 32px;\n",
              "  }\n",
              "\n",
              "  .colab-df-quickchart:hover {\n",
              "    background-color: var(--hover-bg-color);\n",
              "    box-shadow: 0 1px 2px rgba(60, 64, 67, 0.3), 0 1px 3px 1px rgba(60, 64, 67, 0.15);\n",
              "    fill: var(--button-hover-fill-color);\n",
              "  }\n",
              "\n",
              "  .colab-df-quickchart-complete:disabled,\n",
              "  .colab-df-quickchart-complete:disabled:hover {\n",
              "    background-color: var(--disabled-bg-color);\n",
              "    fill: var(--disabled-fill-color);\n",
              "    box-shadow: none;\n",
              "  }\n",
              "\n",
              "  .colab-df-spinner {\n",
              "    border: 2px solid var(--fill-color);\n",
              "    border-color: transparent;\n",
              "    border-bottom-color: var(--fill-color);\n",
              "    animation:\n",
              "      spin 1s steps(1) infinite;\n",
              "  }\n",
              "\n",
              "  @keyframes spin {\n",
              "    0% {\n",
              "      border-color: transparent;\n",
              "      border-bottom-color: var(--fill-color);\n",
              "      border-left-color: var(--fill-color);\n",
              "    }\n",
              "    20% {\n",
              "      border-color: transparent;\n",
              "      border-left-color: var(--fill-color);\n",
              "      border-top-color: var(--fill-color);\n",
              "    }\n",
              "    30% {\n",
              "      border-color: transparent;\n",
              "      border-left-color: var(--fill-color);\n",
              "      border-top-color: var(--fill-color);\n",
              "      border-right-color: var(--fill-color);\n",
              "    }\n",
              "    40% {\n",
              "      border-color: transparent;\n",
              "      border-right-color: var(--fill-color);\n",
              "      border-top-color: var(--fill-color);\n",
              "    }\n",
              "    60% {\n",
              "      border-color: transparent;\n",
              "      border-right-color: var(--fill-color);\n",
              "    }\n",
              "    80% {\n",
              "      border-color: transparent;\n",
              "      border-right-color: var(--fill-color);\n",
              "      border-bottom-color: var(--fill-color);\n",
              "    }\n",
              "    90% {\n",
              "      border-color: transparent;\n",
              "      border-bottom-color: var(--fill-color);\n",
              "    }\n",
              "  }\n",
              "</style>\n",
              "\n",
              "      <script>\n",
              "        async function quickchart(key) {\n",
              "          const quickchartButtonEl =\n",
              "            document.querySelector('#' + key + ' button');\n",
              "          quickchartButtonEl.disabled = true;  // To prevent multiple clicks.\n",
              "          quickchartButtonEl.classList.add('colab-df-spinner');\n",
              "          try {\n",
              "            const charts = await google.colab.kernel.invokeFunction(\n",
              "                'suggestCharts', [key], {});\n",
              "          } catch (error) {\n",
              "            console.error('Error during call to suggestCharts:', error);\n",
              "          }\n",
              "          quickchartButtonEl.classList.remove('colab-df-spinner');\n",
              "          quickchartButtonEl.classList.add('colab-df-quickchart-complete');\n",
              "        }\n",
              "        (() => {\n",
              "          let quickchartButtonEl =\n",
              "            document.querySelector('#df-8047af11-eb75-4bf7-80e2-e82de2bc8dbe button');\n",
              "          quickchartButtonEl.style.display =\n",
              "            google.colab.kernel.accessAllowed ? 'block' : 'none';\n",
              "        })();\n",
              "      </script>\n",
              "    </div>\n",
              "\n",
              "    </div>\n",
              "  </div>\n"
            ],
            "application/vnd.google.colaboratory.intrinsic+json": {
              "type": "dataframe",
              "variable_name": "df",
              "summary": "{\n  \"name\": \"df\",\n  \"rows\": 2000,\n  \"fields\": [\n    {\n      \"column\": \"Task\",\n      \"properties\": {\n        \"dtype\": \"string\",\n        \"num_unique_values\": 2000,\n        \"samples\": [\n          \"Fix the optimize_out-of-the-box_e-services before Thursday\",\n          \"Clean up the iterate_B2C_paradigms before Friday\",\n          \"Repair the drive_frictionless_partnerships before Friday\"\n        ],\n        \"semantic_type\": \"\",\n        \"description\": \"\"\n      }\n    },\n    {\n      \"column\": \"Category\",\n      \"properties\": {\n        \"dtype\": \"category\",\n        \"num_unique_values\": 10,\n        \"samples\": [\n          \"Bug\",\n          \"Research\",\n          \"Code Review\"\n        ],\n        \"semantic_type\": \"\",\n        \"description\": \"\"\n      }\n    },\n    {\n      \"column\": \"Priority\",\n      \"properties\": {\n        \"dtype\": \"category\",\n        \"num_unique_values\": 3,\n        \"samples\": [\n          \"Low\",\n          \"Medium\",\n          \"High\"\n        ],\n        \"semantic_type\": \"\",\n        \"description\": \"\"\n      }\n    },\n    {\n      \"column\": \"Deadline\",\n      \"properties\": {\n        \"dtype\": \"object\",\n        \"num_unique_values\": 21,\n        \"samples\": [\n          \"2025-05-21\",\n          \"2025-06-08\",\n          \"2025-06-10\"\n        ],\n        \"semantic_type\": \"\",\n        \"description\": \"\"\n      }\n    },\n    {\n      \"column\": \"Assigned_To\",\n      \"properties\": {\n        \"dtype\": \"category\",\n        \"num_unique_values\": 5,\n        \"samples\": [\n          \"Naman\",\n          \"Aarav\",\n          \"Bibhab\"\n        ],\n        \"semantic_type\": \"\",\n        \"description\": \"\"\n      }\n    },\n    {\n      \"column\": \"User_Behavior_Score\",\n      \"properties\": {\n        \"dtype\": \"number\",\n        \"std\": 0.18841209265418668,\n        \"min\": 0.27,\n        \"max\": 0.84,\n        \"num_unique_values\": 5,\n        \"samples\": [\n          0.5,\n          0.27,\n          0.59\n        ],\n        \"semantic_type\": \"\",\n        \"description\": \"\"\n      }\n    },\n    {\n      \"column\": \"Status\",\n      \"properties\": {\n        \"dtype\": \"category\",\n        \"num_unique_values\": 3,\n        \"samples\": [\n          \"Completed\",\n          \"Pending\",\n          \"In Progress\"\n        ],\n        \"semantic_type\": \"\",\n        \"description\": \"\"\n      }\n    },\n    {\n      \"column\": \"Workload\",\n      \"properties\": {\n        \"dtype\": \"category\",\n        \"num_unique_values\": 3,\n        \"samples\": [\n          \"High\",\n          \"Medium\",\n          \"Low\"\n        ],\n        \"semantic_type\": \"\",\n        \"description\": \"\"\n      }\n    },\n    {\n      \"column\": \"Processed_Task\",\n      \"properties\": {\n        \"dtype\": \"string\",\n        \"num_unique_values\": 2000,\n        \"samples\": [\n          \"fix optimizeoutoftheboxeservices thursday\",\n          \"clean iteratebcparadigms friday\",\n          \"repair drivefrictionlesspartnerships friday\"\n        ],\n        \"semantic_type\": \"\",\n        \"description\": \"\"\n      }\n    }\n  ]\n}"
            }
          },
          "metadata": {},
          "execution_count": 2
        }
      ]
    },
    {
      "cell_type": "markdown",
      "source": [
        "Week 2 :\n",
        "1. Feature Extraction with TF-IDF"
      ],
      "metadata": {
        "id": "dAOJgYm3ORmC"
      }
    },
    {
      "cell_type": "code",
      "source": [
        "from sklearn.feature_extraction.text import TfidfVectorizer\n",
        "\n",
        "# Use the cleaned task descriptions\n",
        "texts = df[\"Processed_Task\"]\n",
        "labels = df[\"Category\"]\n",
        "\n",
        "# Convert text to TF-IDF features\n",
        "vectorizer = TfidfVectorizer(max_features=1000)\n",
        "X = vectorizer.fit_transform(texts)\n"
      ],
      "metadata": {
        "id": "2WAa98aRLgzI"
      },
      "execution_count": 3,
      "outputs": []
    },
    {
      "cell_type": "markdown",
      "source": [
        "2. Train/Test Split and Classifier Training"
      ],
      "metadata": {
        "id": "0xjDicw6OWj8"
      }
    },
    {
      "cell_type": "code",
      "source": [
        "from sklearn.model_selection import train_test_split\n",
        "from sklearn.naive_bayes import MultinomialNB\n",
        "from sklearn.svm import LinearSVC\n",
        "from sklearn.metrics import classification_report\n",
        "\n",
        "\n",
        "X_train, X_test, y_train, y_test = train_test_split(X, labels, test_size=0.2, random_state=42)\n",
        "\n",
        "# Naive Bayes model\n",
        "nb_model = MultinomialNB()\n",
        "nb_model.fit(X_train, y_train)\n",
        "nb_preds = nb_model.predict(X_test)\n",
        "print(\"Naive Bayes Results:\\n\", classification_report(y_test, nb_preds))\n",
        "\n",
        "# SVM model\n",
        "svm_model = LinearSVC()\n",
        "svm_model.fit(X_train, y_train)\n",
        "svm_preds = svm_model.predict(X_test)\n",
        "print(\"SVM Results:\\n\", classification_report(y_test, svm_preds))\n"
      ],
      "metadata": {
        "colab": {
          "base_uri": "https://localhost:8080/"
        },
        "id": "3GRHZFm1LuAU",
        "outputId": "1acdb51f-b028-4491-98a2-c42f9bdd6f9b"
      },
      "execution_count": 4,
      "outputs": [
        {
          "output_type": "stream",
          "name": "stdout",
          "text": [
            "Naive Bayes Results:\n",
            "                precision    recall  f1-score   support\n",
            "\n",
            "          Bug       1.00      1.00      1.00        48\n",
            "  Code Review       0.82      0.97      0.89        34\n",
            "   Deployment       1.00      1.00      1.00        40\n",
            "       Design       1.00      1.00      1.00        39\n",
            "Documentation       0.89      1.00      0.94        32\n",
            "      Feature       1.00      0.89      0.94        38\n",
            "  Maintenance       1.00      1.00      1.00        36\n",
            " Optimization       0.97      0.88      0.92        41\n",
            "     Research       1.00      0.96      0.98        46\n",
            "      Testing       1.00      1.00      1.00        46\n",
            "\n",
            "     accuracy                           0.97       400\n",
            "    macro avg       0.97      0.97      0.97       400\n",
            " weighted avg       0.97      0.97      0.97       400\n",
            "\n",
            "SVM Results:\n",
            "                precision    recall  f1-score   support\n",
            "\n",
            "          Bug       1.00      1.00      1.00        48\n",
            "  Code Review       0.84      0.94      0.89        34\n",
            "   Deployment       1.00      1.00      1.00        40\n",
            "       Design       1.00      1.00      1.00        39\n",
            "Documentation       1.00      1.00      1.00        32\n",
            "      Feature       1.00      1.00      1.00        38\n",
            "  Maintenance       1.00      1.00      1.00        36\n",
            " Optimization       0.95      0.85      0.90        41\n",
            "     Research       1.00      1.00      1.00        46\n",
            "      Testing       1.00      1.00      1.00        46\n",
            "\n",
            "     accuracy                           0.98       400\n",
            "    macro avg       0.98      0.98      0.98       400\n",
            " weighted avg       0.98      0.98      0.98       400\n",
            "\n"
          ]
        }
      ]
    },
    {
      "cell_type": "markdown",
      "source": [
        "Week 3 :\n",
        "1. Priority Prediction Model using Random Forest"
      ],
      "metadata": {
        "id": "lDLP9cTjMWB5"
      }
    },
    {
      "cell_type": "code",
      "source": [
        "from sklearn.feature_extraction.text import TfidfVectorizer\n",
        "from sklearn.ensemble import RandomForestClassifier\n",
        "from sklearn.model_selection import train_test_split, GridSearchCV\n",
        "from sklearn.preprocessing import LabelEncoder\n",
        "from sklearn.metrics import classification_report\n",
        "\n",
        "# Encode Priority labels\n",
        "le_priority = LabelEncoder()\n",
        "df[\"Priority_Label\"] = le_priority.fit_transform(df[\"Priority\"])\n",
        "\n",
        "# TF-IDF features from Processed_Task\n",
        "vectorizer = TfidfVectorizer(max_features=1000)\n",
        "X = vectorizer.fit_transform(df[\"Processed_Task\"])\n",
        "y = df[\"Priority_Label\"]\n",
        "\n",
        "X_train, X_test, y_train, y_test = train_test_split(X, y, test_size=0.2, random_state=42)\n",
        "\n",
        "rf_model = RandomForestClassifier(random_state=42)\n",
        "rf_model.fit(X_train, y_train)\n",
        "y_pred = rf_model.predict(X_test)\n",
        "\n",
        "print(\"Random Forest - Priority Prediction Report:\\n\")\n",
        "print(classification_report(y_test, y_pred, target_names=le_priority.classes_))\n"
      ],
      "metadata": {
        "colab": {
          "base_uri": "https://localhost:8080/"
        },
        "id": "ASp38N_YL0v6",
        "outputId": "709f7b3d-2484-415d-9884-ae58b1874ac9"
      },
      "execution_count": 5,
      "outputs": [
        {
          "output_type": "stream",
          "name": "stdout",
          "text": [
            "Random Forest - Priority Prediction Report:\n",
            "\n",
            "              precision    recall  f1-score   support\n",
            "\n",
            "        High       0.52      0.75      0.62       202\n",
            "         Low       0.27      0.17      0.21        63\n",
            "      Medium       0.35      0.18      0.24       135\n",
            "\n",
            "    accuracy                           0.47       400\n",
            "   macro avg       0.38      0.37      0.35       400\n",
            "weighted avg       0.42      0.47      0.42       400\n",
            "\n"
          ]
        }
      ]
    },
    {
      "cell_type": "markdown",
      "source": [
        "2. GridSearchCV for Hyperparameter Tuning"
      ],
      "metadata": {
        "id": "R5Ui4lzqMjqD"
      }
    },
    {
      "cell_type": "code",
      "source": [
        "# Hyperparameter tuning using GridSearchCV\n",
        "param_grid = {\n",
        "    'n_estimators': [50, 100],\n",
        "    'max_depth': [None, 10, 20],\n",
        "    'min_samples_split': [2, 5]\n",
        "}\n",
        "\n",
        "grid_search = GridSearchCV(RandomForestClassifier(random_state=42), param_grid, cv=3, scoring='accuracy')\n",
        "grid_search.fit(X_train, y_train)\n",
        "\n",
        "print(\"Best Parameters:\", grid_search.best_params_)\n",
        "print(\"Best CV Accuracy Score:\", grid_search.best_score_)\n"
      ],
      "metadata": {
        "colab": {
          "base_uri": "https://localhost:8080/"
        },
        "id": "7JIXIUekMjUa",
        "outputId": "39a0315b-a027-468e-b46c-b14cd167a555"
      },
      "execution_count": 6,
      "outputs": [
        {
          "output_type": "stream",
          "name": "stdout",
          "text": [
            "Best Parameters: {'max_depth': 10, 'min_samples_split': 2, 'n_estimators': 100}\n",
            "Best CV Accuracy Score: 0.49187460327498694\n"
          ]
        }
      ]
    },
    {
      "cell_type": "markdown",
      "source": [
        "3. Workload Balancing Logic (Simple Heuristic)"
      ],
      "metadata": {
        "id": "pGlxToNUMnf5"
      }
    },
    {
      "cell_type": "code",
      "source": [
        "# Count tasks per user\n",
        "task_counts = df[\"Assigned_To\"].value_counts()\n",
        "\n",
        "# Assign new tasks to users with the least workload\n",
        "def assign_task_least_loaded(user_task_counts):\n",
        "    return user_task_counts.idxmin()\n",
        "\n",
        "new_assignment = assign_task_least_loaded(task_counts)\n",
        "print(\"Assign next task to:\", new_assignment)\n"
      ],
      "metadata": {
        "colab": {
          "base_uri": "https://localhost:8080/"
        },
        "id": "4nHzxRwbMrLJ",
        "outputId": "ed0434a5-c0c5-4d46-daba-84ec028c93be"
      },
      "execution_count": 9,
      "outputs": [
        {
          "output_type": "stream",
          "name": "stdout",
          "text": [
            "Assign next task to: Aarav\n"
          ]
        }
      ]
    },
    {
      "cell_type": "markdown",
      "source": [
        "Week 4 :\n",
        "1. Finalize Models for Task Classification & Priority Prediction"
      ],
      "metadata": {
        "id": "w-ys4A-cNMfc"
      }
    },
    {
      "cell_type": "code",
      "source": [
        "import joblib\n",
        "\n",
        "joblib.dump(svm_model, \"task_classifier_model.pkl\")\n",
        "\n",
        "joblib.dump(rf_model, \"priority_predictor_model.pkl\")\n",
        "\n",
        "joblib.dump(vectorizer, \"tfidf_vectorizer.pkl\")\n"
      ],
      "metadata": {
        "colab": {
          "base_uri": "https://localhost:8080/"
        },
        "id": "QW1gHe_KM6Mo",
        "outputId": "01043891-dea7-470e-d872-6cdcbd2bf1d0"
      },
      "execution_count": 10,
      "outputs": [
        {
          "output_type": "execute_result",
          "data": {
            "text/plain": [
              "['tfidf_vectorizer.pkl']"
            ]
          },
          "metadata": {},
          "execution_count": 10
        }
      ]
    },
    {
      "cell_type": "markdown",
      "source": [
        "2. Prepare Dashboard Mockup / Output Summary"
      ],
      "metadata": {
        "id": "FJcsCBdFNV1H"
      }
    },
    {
      "cell_type": "code",
      "source": [
        "import matplotlib.pyplot as plt\n",
        "\n",
        "df['Category'].value_counts().plot(kind='bar', color='skyblue')\n",
        "plt.title('Task Category Distribution')\n",
        "plt.xlabel('Category')\n",
        "plt.ylabel('Count')\n",
        "plt.tight_layout()\n",
        "plt.show()\n"
      ],
      "metadata": {
        "colab": {
          "base_uri": "https://localhost:8080/",
          "height": 487
        },
        "id": "7WvRQM8cNXRZ",
        "outputId": "6e39e596-7a72-4f03-dffb-fa646038411f"
      },
      "execution_count": 11,
      "outputs": [
        {
          "output_type": "display_data",
          "data": {
            "text/plain": [
              "<Figure size 640x480 with 1 Axes>"
            ],
            "image/png": "[encoded data removed]"
          },
          "metadata": {}
        }
      ]
    },
    {
      "cell_type": "code",
      "source": [
        "df['Priority'].value_counts().plot(kind='pie', autopct='%1.1f%%', startangle=90, colors=['lightgreen', 'gold', 'salmon'])\n",
        "plt.title('Priority Distribution')\n",
        "plt.ylabel('')\n",
        "plt.show()\n"
      ],
      "metadata": {
        "colab": {
          "base_uri": "https://localhost:8080/",
          "height": 428
        },
        "id": "B4G68MUpNdUP",
        "outputId": "ad3dbc9b-4c2b-47f6-e4f4-bf971f0b8e6f"
      },
      "execution_count": 12,
      "outputs": [
        {
          "output_type": "display_data",
          "data": {
            "text/plain": [
              "<Figure size 640x480 with 1 Axes>"
            ],
            "image/png": "[encoded data removed]"
          },
          "metadata": {}
        }
      ]
    },
    {
      "cell_type": "markdown",
      "source": [
        "3. Compile Performance Metrics"
      ],
      "metadata": {
        "id": "cXRDmwRsNY-x"
      }
    },
    {
      "cell_type": "code",
      "source": [
        "# Task classification performance\n",
        "print(\"Final Task Classification Report:\\n\")\n",
        "print(classification_report(y_test, svm_preds))\n",
        "\n",
        "# Priority prediction performance\n",
        "print(\"Final Priority Prediction Report:\\n\")\n",
        "print(classification_report(y_test_p, rf_preds, target_names=le_priority.classes_))\n"
      ],
      "metadata": {
        "id": "C686yYreNiDA"
      },
      "execution_count": 13,
      "outputs": []
    }
  ]
}